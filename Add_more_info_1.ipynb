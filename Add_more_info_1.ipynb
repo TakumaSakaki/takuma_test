{
 "cells": [
  {
   "cell_type": "code",
   "execution_count": 78,
   "metadata": {
    "collapsed": false
   },
   "outputs": [],
   "source": [
    "# -*- coding: utf-8 -*-\n",
    "import pymysql\n",
    "import pandas as pd\n",
    "from pymysql.cursors import DictCursor\n",
    "\n",
    "class config:\n",
    "    user = 'root'\n",
    "    host = '127.0.0.1'\n",
    "    passwd = '!019Takuma'\n",
    "    db = 'HRdata'\n",
    "\n",
    "    \n",
    "#mysqlのデータベースと接続\n",
    "dbcon = pymysql.connect(\n",
    "    database = config.db,\n",
    "    user = config.user,\n",
    "    password = config.passwd,\n",
    "    host = config.host,\n",
    "    charset =\"utf8\"\n",
    ")\n",
    "dbcur = dbcon.cursor(DictCursor)"
   ]
  },
  {
   "cell_type": "code",
   "execution_count": 61,
   "metadata": {
    "collapsed": false
   },
   "outputs": [
    {
     "data": {
      "text/html": [
       "<div>\n",
       "<table border=\"1\" class=\"dataframe\">\n",
       "  <thead>\n",
       "    <tr style=\"text-align: right;\">\n",
       "      <th></th>\n",
       "      <th>finishing_time</th>\n",
       "      <th>race_id</th>\n",
       "    </tr>\n",
       "  </thead>\n",
       "  <tbody>\n",
       "    <tr>\n",
       "      <th>0</th>\n",
       "      <td>89.6</td>\n",
       "      <td>1</td>\n",
       "    </tr>\n",
       "    <tr>\n",
       "      <th>1</th>\n",
       "      <td>89.8</td>\n",
       "      <td>1</td>\n",
       "    </tr>\n",
       "    <tr>\n",
       "      <th>2</th>\n",
       "      <td>89.9</td>\n",
       "      <td>1</td>\n",
       "    </tr>\n",
       "    <tr>\n",
       "      <th>3</th>\n",
       "      <td>90.1</td>\n",
       "      <td>1</td>\n",
       "    </tr>\n",
       "    <tr>\n",
       "      <th>4</th>\n",
       "      <td>90.4</td>\n",
       "      <td>1</td>\n",
       "    </tr>\n",
       "  </tbody>\n",
       "</table>\n",
       "</div>"
      ],
      "text/plain": [
       "   finishing_time  race_id\n",
       "0            89.6        1\n",
       "1            89.8        1\n",
       "2            89.9        1\n",
       "3            90.1        1\n",
       "4            90.4        1"
      ]
     },
     "execution_count": 61,
     "metadata": {},
     "output_type": "execute_result"
    }
   ],
   "source": [
    "#dataの獲得\n",
    "\n",
    "dbcur.execute(\"select result_race.race_id,finishing_time from result_race\")\n",
    "df = pd.DataFrame(dbcur.fetchall())\n",
    "df.head()"
   ]
  },
  {
   "cell_type": "markdown",
   "metadata": {},
   "source": [
    "### 先に小規模データで実験する。"
   ]
  },
  {
   "cell_type": "code",
   "execution_count": null,
   "metadata": {
    "collapsed": false
   },
   "outputs": [],
   "source": [
    "db_test = pd.DataFrame({'id':[1,1,1,2,2,3], 'score':[12,0,8,10,5,11]})\n",
    "db_test"
   ]
  },
  {
   "cell_type": "code",
   "execution_count": null,
   "metadata": {
    "collapsed": false
   },
   "outputs": [],
   "source": [
    "db_test_formin = db_test[db_test['score'] != 0]\n",
    "db_test_formin"
   ]
  },
  {
   "cell_type": "code",
   "execution_count": null,
   "metadata": {
    "collapsed": false
   },
   "outputs": [],
   "source": [
    "data_min = {'id':[x for x in range(1, len(db_test_formin.groupby('id'))+ 1)] ,\n",
    "            'score_min':[x for x in db_test_formin.groupby('id')['score'].min()]}\n",
    "print(data_min)"
   ]
  },
  {
   "cell_type": "code",
   "execution_count": null,
   "metadata": {
    "collapsed": false
   },
   "outputs": [],
   "source": [
    "db_min = pd.DataFrame(data_min)\n",
    "db_min"
   ]
  },
  {
   "cell_type": "code",
   "execution_count": null,
   "metadata": {
    "collapsed": false
   },
   "outputs": [],
   "source": [
    "db_test = pd.merge(db_test , db_min)\n",
    "db_test.head()"
   ]
  },
  {
   "cell_type": "code",
   "execution_count": null,
   "metadata": {
    "collapsed": false
   },
   "outputs": [],
   "source": [
    "db_test['score_to_top'] = db_test['score'] - db_test['score_min']\n",
    "db_test.head()"
   ]
  },
  {
   "cell_type": "markdown",
   "metadata": {},
   "source": [
    "### では本番。"
   ]
  },
  {
   "cell_type": "code",
   "execution_count": 62,
   "metadata": {
    "collapsed": false
   },
   "outputs": [
    {
     "data": {
      "text/html": [
       "<div>\n",
       "<table border=\"1\" class=\"dataframe\">\n",
       "  <thead>\n",
       "    <tr style=\"text-align: right;\">\n",
       "      <th></th>\n",
       "      <th>finishing_time</th>\n",
       "      <th>race_id</th>\n",
       "    </tr>\n",
       "  </thead>\n",
       "  <tbody>\n",
       "    <tr>\n",
       "      <th>0</th>\n",
       "      <td>89.6</td>\n",
       "      <td>1</td>\n",
       "    </tr>\n",
       "    <tr>\n",
       "      <th>1</th>\n",
       "      <td>89.8</td>\n",
       "      <td>1</td>\n",
       "    </tr>\n",
       "    <tr>\n",
       "      <th>2</th>\n",
       "      <td>89.9</td>\n",
       "      <td>1</td>\n",
       "    </tr>\n",
       "    <tr>\n",
       "      <th>3</th>\n",
       "      <td>90.1</td>\n",
       "      <td>1</td>\n",
       "    </tr>\n",
       "    <tr>\n",
       "      <th>4</th>\n",
       "      <td>90.4</td>\n",
       "      <td>1</td>\n",
       "    </tr>\n",
       "  </tbody>\n",
       "</table>\n",
       "</div>"
      ],
      "text/plain": [
       "   finishing_time  race_id\n",
       "0            89.6        1\n",
       "1            89.8        1\n",
       "2            89.9        1\n",
       "3            90.1        1\n",
       "4            90.4        1"
      ]
     },
     "execution_count": 62,
     "metadata": {},
     "output_type": "execute_result"
    }
   ],
   "source": [
    "db_for_min = df[df['finishing_time'] > 0]\n",
    "db_for_min.head()"
   ]
  },
  {
   "cell_type": "code",
   "execution_count": 63,
   "metadata": {
    "collapsed": false
   },
   "outputs": [
    {
     "data": {
      "text/html": [
       "<div>\n",
       "<table border=\"1\" class=\"dataframe\">\n",
       "  <thead>\n",
       "    <tr style=\"text-align: right;\">\n",
       "      <th></th>\n",
       "      <th>race_id</th>\n",
       "      <th>top_time</th>\n",
       "    </tr>\n",
       "  </thead>\n",
       "  <tbody>\n",
       "    <tr>\n",
       "      <th>0</th>\n",
       "      <td>1</td>\n",
       "      <td>89.6</td>\n",
       "    </tr>\n",
       "    <tr>\n",
       "      <th>1</th>\n",
       "      <td>2</td>\n",
       "      <td>59.1</td>\n",
       "    </tr>\n",
       "    <tr>\n",
       "      <th>2</th>\n",
       "      <td>3</td>\n",
       "      <td>104.8</td>\n",
       "    </tr>\n",
       "    <tr>\n",
       "      <th>3</th>\n",
       "      <td>4</td>\n",
       "      <td>71.2</td>\n",
       "    </tr>\n",
       "    <tr>\n",
       "      <th>4</th>\n",
       "      <td>5</td>\n",
       "      <td>105.3</td>\n",
       "    </tr>\n",
       "  </tbody>\n",
       "</table>\n",
       "</div>"
      ],
      "text/plain": [
       "   race_id  top_time\n",
       "0        1      89.6\n",
       "1        2      59.1\n",
       "2        3     104.8\n",
       "3        4      71.2\n",
       "4        5     105.3"
      ]
     },
     "execution_count": 63,
     "metadata": {},
     "output_type": "execute_result"
    }
   ],
   "source": [
    "data_min = {'race_id':[x for x in range(1, len(db_for_min.groupby('race_id'))+ 1)] ,\n",
    "            'top_time':[x for x in db_for_min.groupby('race_id')['finishing_time'].min()]}\n",
    "df_min = pd.DataFrame(data_min)\n",
    "df_min.head()"
   ]
  },
  {
   "cell_type": "code",
   "execution_count": 64,
   "metadata": {
    "collapsed": false
   },
   "outputs": [
    {
     "data": {
      "text/html": [
       "<div>\n",
       "<table border=\"1\" class=\"dataframe\">\n",
       "  <thead>\n",
       "    <tr style=\"text-align: right;\">\n",
       "      <th></th>\n",
       "      <th>finishing_time</th>\n",
       "      <th>race_id</th>\n",
       "      <th>top_time</th>\n",
       "    </tr>\n",
       "  </thead>\n",
       "  <tbody>\n",
       "    <tr>\n",
       "      <th>0</th>\n",
       "      <td>89.6</td>\n",
       "      <td>1</td>\n",
       "      <td>89.6</td>\n",
       "    </tr>\n",
       "    <tr>\n",
       "      <th>1</th>\n",
       "      <td>89.8</td>\n",
       "      <td>1</td>\n",
       "      <td>89.6</td>\n",
       "    </tr>\n",
       "    <tr>\n",
       "      <th>2</th>\n",
       "      <td>89.9</td>\n",
       "      <td>1</td>\n",
       "      <td>89.6</td>\n",
       "    </tr>\n",
       "    <tr>\n",
       "      <th>3</th>\n",
       "      <td>90.1</td>\n",
       "      <td>1</td>\n",
       "      <td>89.6</td>\n",
       "    </tr>\n",
       "    <tr>\n",
       "      <th>4</th>\n",
       "      <td>90.4</td>\n",
       "      <td>1</td>\n",
       "      <td>89.6</td>\n",
       "    </tr>\n",
       "  </tbody>\n",
       "</table>\n",
       "</div>"
      ],
      "text/plain": [
       "   finishing_time  race_id  top_time\n",
       "0            89.6        1      89.6\n",
       "1            89.8        1      89.6\n",
       "2            89.9        1      89.6\n",
       "3            90.1        1      89.6\n",
       "4            90.4        1      89.6"
      ]
     },
     "execution_count": 64,
     "metadata": {},
     "output_type": "execute_result"
    }
   ],
   "source": [
    "df = pd.merge(df,df_min)\n",
    "df.head()"
   ]
  },
  {
   "cell_type": "code",
   "execution_count": 65,
   "metadata": {
    "collapsed": false
   },
   "outputs": [
    {
     "data": {
      "text/html": [
       "<div>\n",
       "<table border=\"1\" class=\"dataframe\">\n",
       "  <thead>\n",
       "    <tr style=\"text-align: right;\">\n",
       "      <th></th>\n",
       "      <th>finishing_time</th>\n",
       "      <th>race_id</th>\n",
       "      <th>top_time</th>\n",
       "      <th>time_to_top</th>\n",
       "    </tr>\n",
       "  </thead>\n",
       "  <tbody>\n",
       "    <tr>\n",
       "      <th>0</th>\n",
       "      <td>89.6</td>\n",
       "      <td>1</td>\n",
       "      <td>89.6</td>\n",
       "      <td>0.0</td>\n",
       "    </tr>\n",
       "    <tr>\n",
       "      <th>1</th>\n",
       "      <td>89.8</td>\n",
       "      <td>1</td>\n",
       "      <td>89.6</td>\n",
       "      <td>0.2</td>\n",
       "    </tr>\n",
       "    <tr>\n",
       "      <th>2</th>\n",
       "      <td>89.9</td>\n",
       "      <td>1</td>\n",
       "      <td>89.6</td>\n",
       "      <td>0.3</td>\n",
       "    </tr>\n",
       "    <tr>\n",
       "      <th>3</th>\n",
       "      <td>90.1</td>\n",
       "      <td>1</td>\n",
       "      <td>89.6</td>\n",
       "      <td>0.5</td>\n",
       "    </tr>\n",
       "    <tr>\n",
       "      <th>4</th>\n",
       "      <td>90.4</td>\n",
       "      <td>1</td>\n",
       "      <td>89.6</td>\n",
       "      <td>0.8</td>\n",
       "    </tr>\n",
       "  </tbody>\n",
       "</table>\n",
       "</div>"
      ],
      "text/plain": [
       "   finishing_time  race_id  top_time  time_to_top\n",
       "0            89.6        1      89.6          0.0\n",
       "1            89.8        1      89.6          0.2\n",
       "2            89.9        1      89.6          0.3\n",
       "3            90.1        1      89.6          0.5\n",
       "4            90.4        1      89.6          0.8"
      ]
     },
     "execution_count": 65,
     "metadata": {},
     "output_type": "execute_result"
    }
   ],
   "source": [
    "df['time_to_top'] = df['finishing_time'] - df['top_time']\n",
    "df.head()"
   ]
  },
  {
   "cell_type": "code",
   "execution_count": 72,
   "metadata": {
    "collapsed": false
   },
   "outputs": [
    {
     "data": {
      "text/html": [
       "<div>\n",
       "<table border=\"1\" class=\"dataframe\">\n",
       "  <thead>\n",
       "    <tr style=\"text-align: right;\">\n",
       "      <th></th>\n",
       "      <th>corner_order</th>\n",
       "      <th>first_order</th>\n",
       "      <th>horse_id</th>\n",
       "      <th>last_speed</th>\n",
       "    </tr>\n",
       "  </thead>\n",
       "  <tbody>\n",
       "    <tr>\n",
       "      <th>0</th>\n",
       "      <td>1</td>\n",
       "      <td>1</td>\n",
       "      <td>2005100161</td>\n",
       "      <td>36.1</td>\n",
       "    </tr>\n",
       "    <tr>\n",
       "      <th>1</th>\n",
       "      <td>3</td>\n",
       "      <td>5</td>\n",
       "      <td>2005101066</td>\n",
       "      <td>35.9</td>\n",
       "    </tr>\n",
       "    <tr>\n",
       "      <th>2</th>\n",
       "      <td>3</td>\n",
       "      <td>2</td>\n",
       "      <td>2005109144</td>\n",
       "      <td>36.1</td>\n",
       "    </tr>\n",
       "    <tr>\n",
       "      <th>3</th>\n",
       "      <td>2</td>\n",
       "      <td>2</td>\n",
       "      <td>2005102851</td>\n",
       "      <td>36.5</td>\n",
       "    </tr>\n",
       "    <tr>\n",
       "      <th>4</th>\n",
       "      <td>5</td>\n",
       "      <td>6</td>\n",
       "      <td>2005100911</td>\n",
       "      <td>36.3</td>\n",
       "    </tr>\n",
       "  </tbody>\n",
       "</table>\n",
       "</div>"
      ],
      "text/plain": [
       "   corner_order  first_order    horse_id  last_speed\n",
       "0             1            1  2005100161        36.1\n",
       "1             3            5  2005101066        35.9\n",
       "2             3            2  2005109144        36.1\n",
       "3             2            2  2005102851        36.5\n",
       "4             5            6  2005100911        36.3"
      ]
     },
     "execution_count": 72,
     "metadata": {},
     "output_type": "execute_result"
    }
   ],
   "source": [
    "dbcur.execute(\"select result_race.horse_id,first_order,corner_order,last_speed from result_race\")\n",
    "df_rest = pd.DataFrame(dbcur.fetchall())\n",
    "df_rest.head()"
   ]
  },
  {
   "cell_type": "code",
   "execution_count": 73,
   "metadata": {
    "collapsed": false
   },
   "outputs": [
    {
     "data": {
      "text/html": [
       "<div>\n",
       "<table border=\"1\" class=\"dataframe\">\n",
       "  <thead>\n",
       "    <tr style=\"text-align: right;\">\n",
       "      <th></th>\n",
       "      <th>finishing_time</th>\n",
       "      <th>race_id</th>\n",
       "      <th>top_time</th>\n",
       "      <th>time_to_top</th>\n",
       "      <th>corner_order</th>\n",
       "      <th>first_order</th>\n",
       "      <th>horse_id</th>\n",
       "      <th>last_speed</th>\n",
       "    </tr>\n",
       "  </thead>\n",
       "  <tbody>\n",
       "    <tr>\n",
       "      <th>0</th>\n",
       "      <td>89.6</td>\n",
       "      <td>1</td>\n",
       "      <td>89.6</td>\n",
       "      <td>0.0</td>\n",
       "      <td>1</td>\n",
       "      <td>1</td>\n",
       "      <td>2005100161</td>\n",
       "      <td>36.1</td>\n",
       "    </tr>\n",
       "    <tr>\n",
       "      <th>1</th>\n",
       "      <td>89.8</td>\n",
       "      <td>1</td>\n",
       "      <td>89.6</td>\n",
       "      <td>0.2</td>\n",
       "      <td>3</td>\n",
       "      <td>5</td>\n",
       "      <td>2005101066</td>\n",
       "      <td>35.9</td>\n",
       "    </tr>\n",
       "    <tr>\n",
       "      <th>2</th>\n",
       "      <td>89.9</td>\n",
       "      <td>1</td>\n",
       "      <td>89.6</td>\n",
       "      <td>0.3</td>\n",
       "      <td>3</td>\n",
       "      <td>2</td>\n",
       "      <td>2005109144</td>\n",
       "      <td>36.1</td>\n",
       "    </tr>\n",
       "    <tr>\n",
       "      <th>3</th>\n",
       "      <td>90.1</td>\n",
       "      <td>1</td>\n",
       "      <td>89.6</td>\n",
       "      <td>0.5</td>\n",
       "      <td>2</td>\n",
       "      <td>2</td>\n",
       "      <td>2005102851</td>\n",
       "      <td>36.5</td>\n",
       "    </tr>\n",
       "    <tr>\n",
       "      <th>4</th>\n",
       "      <td>90.4</td>\n",
       "      <td>1</td>\n",
       "      <td>89.6</td>\n",
       "      <td>0.8</td>\n",
       "      <td>5</td>\n",
       "      <td>6</td>\n",
       "      <td>2005100911</td>\n",
       "      <td>36.3</td>\n",
       "    </tr>\n",
       "  </tbody>\n",
       "</table>\n",
       "</div>"
      ],
      "text/plain": [
       "   finishing_time  race_id  top_time  time_to_top  corner_order  first_order  \\\n",
       "0            89.6        1      89.6          0.0             1            1   \n",
       "1            89.8        1      89.6          0.2             3            5   \n",
       "2            89.9        1      89.6          0.3             3            2   \n",
       "3            90.1        1      89.6          0.5             2            2   \n",
       "4            90.4        1      89.6          0.8             5            6   \n",
       "\n",
       "     horse_id  last_speed  \n",
       "0  2005100161        36.1  \n",
       "1  2005101066        35.9  \n",
       "2  2005109144        36.1  \n",
       "3  2005102851        36.5  \n",
       "4  2005100911        36.3  "
      ]
     },
     "execution_count": 73,
     "metadata": {},
     "output_type": "execute_result"
    }
   ],
   "source": [
    "df_all = pd.concat([df, df_rest], axis=1)\n",
    "df_all.head()"
   ]
  },
  {
   "cell_type": "code",
   "execution_count": 74,
   "metadata": {
    "collapsed": false
   },
   "outputs": [
    {
     "data": {
      "text/html": [
       "<div>\n",
       "<table border=\"1\" class=\"dataframe\">\n",
       "  <thead>\n",
       "    <tr style=\"text-align: right;\">\n",
       "      <th></th>\n",
       "      <th>race_id</th>\n",
       "      <th>horse_id</th>\n",
       "      <th>first_order</th>\n",
       "      <th>corner_order</th>\n",
       "      <th>finishing_time</th>\n",
       "      <th>last_speed</th>\n",
       "      <th>time_to_top</th>\n",
       "    </tr>\n",
       "  </thead>\n",
       "  <tbody>\n",
       "    <tr>\n",
       "      <th>0</th>\n",
       "      <td>1</td>\n",
       "      <td>2005100161</td>\n",
       "      <td>1</td>\n",
       "      <td>1</td>\n",
       "      <td>89.6</td>\n",
       "      <td>36.1</td>\n",
       "      <td>0.0</td>\n",
       "    </tr>\n",
       "    <tr>\n",
       "      <th>1</th>\n",
       "      <td>1</td>\n",
       "      <td>2005101066</td>\n",
       "      <td>5</td>\n",
       "      <td>3</td>\n",
       "      <td>89.8</td>\n",
       "      <td>35.9</td>\n",
       "      <td>0.2</td>\n",
       "    </tr>\n",
       "    <tr>\n",
       "      <th>2</th>\n",
       "      <td>1</td>\n",
       "      <td>2005109144</td>\n",
       "      <td>2</td>\n",
       "      <td>3</td>\n",
       "      <td>89.9</td>\n",
       "      <td>36.1</td>\n",
       "      <td>0.3</td>\n",
       "    </tr>\n",
       "    <tr>\n",
       "      <th>3</th>\n",
       "      <td>1</td>\n",
       "      <td>2005102851</td>\n",
       "      <td>2</td>\n",
       "      <td>2</td>\n",
       "      <td>90.1</td>\n",
       "      <td>36.5</td>\n",
       "      <td>0.5</td>\n",
       "    </tr>\n",
       "    <tr>\n",
       "      <th>4</th>\n",
       "      <td>1</td>\n",
       "      <td>2005100911</td>\n",
       "      <td>6</td>\n",
       "      <td>5</td>\n",
       "      <td>90.4</td>\n",
       "      <td>36.3</td>\n",
       "      <td>0.8</td>\n",
       "    </tr>\n",
       "  </tbody>\n",
       "</table>\n",
       "</div>"
      ],
      "text/plain": [
       "   race_id    horse_id  first_order  corner_order  finishing_time  last_speed  \\\n",
       "0        1  2005100161            1             1            89.6        36.1   \n",
       "1        1  2005101066            5             3            89.8        35.9   \n",
       "2        1  2005109144            2             3            89.9        36.1   \n",
       "3        1  2005102851            2             2            90.1        36.5   \n",
       "4        1  2005100911            6             5            90.4        36.3   \n",
       "\n",
       "   time_to_top  \n",
       "0          0.0  \n",
       "1          0.2  \n",
       "2          0.3  \n",
       "3          0.5  \n",
       "4          0.8  "
      ]
     },
     "execution_count": 74,
     "metadata": {},
     "output_type": "execute_result"
    }
   ],
   "source": [
    "df_all = df_all.ix[:, ['race_id','horse_id','first_order','corner_order','finishing_time','last_speed','time_to_top']]\n",
    "df_all.head()"
   ]
  },
  {
   "cell_type": "code",
   "execution_count": 76,
   "metadata": {
    "collapsed": false
   },
   "outputs": [],
   "source": [
    "#一旦クリア\n",
    "dbcur.execute('delete from result_race')\n",
    "\n",
    "#Databaseへ格納\n",
    "L = df_all.values.tolist()\n",
    "for row in L:\n",
    "    dbcur.execute('INSERT INTO result_race(race_id,horse_id,first_order,corner_order,finishing_time,last_speed,time_to_top) VALUES (%s,%s,%s,%s,%s,%s,%s)',row)"
   ]
  },
  {
   "cell_type": "code",
   "execution_count": 77,
   "metadata": {
    "collapsed": true
   },
   "outputs": [],
   "source": [
    "#保存と終了処理\n",
    "dbcon.commit()\n",
    "dbcon.close()"
   ]
  }
 ],
 "metadata": {
  "kernelspec": {
   "display_name": "Python 3",
   "language": "python",
   "name": "python3"
  },
  "language_info": {
   "codemirror_mode": {
    "name": "ipython",
    "version": 3
   },
   "file_extension": ".py",
   "mimetype": "text/x-python",
   "name": "python",
   "nbconvert_exporter": "python",
   "pygments_lexer": "ipython3",
   "version": "3.6.0"
  }
 },
 "nbformat": 4,
 "nbformat_minor": 2
}
