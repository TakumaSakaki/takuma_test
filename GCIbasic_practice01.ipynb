{
 "cells": [
  {
   "cell_type": "code",
   "execution_count": 1,
   "metadata": {
    "collapsed": false
   },
   "outputs": [
    {
     "name": "stdout",
     "output_type": "stream",
     "text": [
      "[1904, 1908, 1912, 1916, 1920, 1924, 1928, 1932, 1936, 1940, 1944, 1948, 1952, 1956, 1960, 1964, 1968, 1972, 1976, 1980, 1984, 1988, 1992, 1996, 2000, 2004, 2008, 2012, 2016, 2020, 2024, 2028, 2032, 2036, 2040, 2044, 2048, 2052, 2056, 2060, 2064, 2068, 2072, 2076, 2080, 2084, 2088, 2092, 2096, 2104, 2108, 2112, 2116, 2120, 2124, 2128, 2132, 2136, 2140, 2144, 2148, 2152, 2156, 2160, 2164, 2168, 2172, 2176, 2180, 2184, 2188, 2192, 2196]\n"
     ]
    }
   ],
   "source": [
    "#coding utf8\n",
    "#課題1\n",
    "\n",
    "uruus = []\n",
    "for i in range(1900,2200):\n",
    "    if i%400 == 0 or ( i%100 != 0 and i%4 == 0):\n",
    "        uruus.append(i)\n",
    "\n",
    "print (uruus)"
   ]
  },
  {
   "cell_type": "code",
   "execution_count": 4,
   "metadata": {
    "collapsed": false
   },
   "outputs": [
    {
     "name": "stdout",
     "output_type": "stream",
     "text": [
      "1476年はうるう年です\n",
      "4070年はうるう年ではありません\n",
      "379年はうるう年ではありません\n",
      "8148年はうるう年です\n",
      "4305年はうるう年ではありません\n",
      "3761年はうるう年ではありません\n",
      "8730年はうるう年ではありません\n",
      "4364年はうるう年です\n",
      "481年はうるう年ではありません\n"
     ]
    }
   ],
   "source": [
    "#課題2\n",
    "import numpy\n",
    "\n",
    "def judge (i):\n",
    "    if i%400 == 0 or ( i%100 != 0 and i%4 == 0):\n",
    "        return True\n",
    "    else:\n",
    "        return False\n",
    "\n",
    "for i in range (1,10):\n",
    "    year = numpy.random.randint(0,10001)\n",
    "    if (judge(year)):\n",
    "        print (str(year)+\"年はうるう年です\")\n",
    "    else:\n",
    "        print (str(year)+\"年はうるう年ではありません\")"
   ]
  },
  {
   "cell_type": "code",
   "execution_count": 5,
   "metadata": {
    "collapsed": false
   },
   "outputs": [
    {
     "name": "stdout",
     "output_type": "stream",
     "text": [
      "65.33333333333333 70.0\n"
     ]
    }
   ],
   "source": [
    "#課題3\n",
    "data = [\n",
    "    {\"name\": \"田中花子\", \"gender\": \"女性\", \"score\": 58, \"birth\": 1980},\n",
    "    {\"name\": \"鈴木一郎\", \"gender\": \"男性\", \"score\": 76, \"birth\": 2000},\n",
    "    {\"name\": \"山田太郎\", \"gender\": \"男性\", \"score\": 69, \"birth\": 1989},\n",
    "    {\"name\": \"佐藤恵子\", \"gender\": \"女性\", \"score\": 62, \"birth\": 1992},\n",
    "    {\"name\": \"石井あや\", \"gender\": \"女性\", \"score\": 71, \"birth\": 1978}\n",
    "]\n",
    "\n",
    "def avg(x):\n",
    "    return 1.0* sum(x)/len(x)\n",
    "\n",
    "uruus = []\n",
    "noturuus = []\n",
    "\n",
    "for datum in data:\n",
    "    if judge(datum[\"birth\"]):\n",
    "        uruus.append(datum[\"score\"])\n",
    "    else:\n",
    "        noturuus.append(datum[\"score\"])\n",
    "\n",
    "print (avg(uruus),avg(noturuus))"
   ]
  },
  {
   "cell_type": "code",
   "execution_count": null,
   "metadata": {
    "collapsed": true
   },
   "outputs": [],
   "source": []
  }
 ],
 "metadata": {
  "kernelspec": {
   "display_name": "Python 3",
   "language": "python",
   "name": "python3"
  },
  "language_info": {
   "codemirror_mode": {
    "name": "ipython",
    "version": 3
   },
   "file_extension": ".py",
   "mimetype": "text/x-python",
   "name": "python",
   "nbconvert_exporter": "python",
   "pygments_lexer": "ipython3",
   "version": "3.6.0"
  }
 },
 "nbformat": 4,
 "nbformat_minor": 2
}
